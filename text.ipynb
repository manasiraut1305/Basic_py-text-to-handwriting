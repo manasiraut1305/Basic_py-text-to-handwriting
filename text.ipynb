{
 "cells": [
  {
   "cell_type": "code",
   "execution_count": null,
   "metadata": {},
   "outputs": [],
   "source": [
    "pip install pywhatkit"
   ]
  },
  {
   "cell_type": "code",
   "execution_count": null,
   "metadata": {},
   "outputs": [],
   "source": [
    "import pywhatkit as pwt\n",
    "fo = open(\"C:\\\\Users\\\\MANASI\\\\Desktop\\\\note.txt\",\"r\")\n",
    "str = fo.read()\n",
    "pwt.text_to_handwriting(str,\"C:\\\\Users\\\\MANASI\\\\Desktop\\\\note.png\",[10,10,0])"
   ]
  },
  {
   "cell_type": "code",
   "execution_count": 16,
   "metadata": {},
   "outputs": [
    {
     "name": "stdout",
     "output_type": "stream",
     "text": [
      "Requirement already satisfied: pillow in c:\\users\\manasi\\anaconda3\\lib\\site-packages (10.2.0)\n",
      "Note: you may need to restart the kernel to use updated packages.\n"
     ]
    }
   ],
   "source": [
    "pip install pillow\n"
   ]
  },
  {
   "cell_type": "code",
   "execution_count": null,
   "metadata": {},
   "outputs": [],
   "source": [
    "from PIL import Image, ImageDraw, ImageFont\n",
    "\n",
    "def text_to_handwriting(text, output_path, font_path, font_size=20, color=(0, 0, 0)):\n",
    "    # Split text into lines\n",
    "    lines = text.split('\\n')\n",
    "\n",
    "    # Create a new image with white background\n",
    "    max_width = max(len(line) for line in lines) * font_size*5\n",
    "    max_height = len(lines) * font_size * 50\n",
    "    image = Image.new('RGB', (max_width, max_height), color='white')\n",
    "\n",
    "    # Initialize ImageDraw\n",
    "    draw = ImageDraw.Draw(image)\n",
    "\n",
    "    # Load the handwriting font\n",
    "    try:\n",
    "        font = ImageFont.truetype(font_path, font_size)\n",
    "    except IOError:\n",
    "        print(\"Font file not found, using default font.\")\n",
    "        font = ImageFont.load_default()\n",
    "\n",
    "    # Draw text on the image\n",
    "    y = 0\n",
    "    for line in lines:\n",
    "        draw.text((10, y), line, fill=color, font=font)\n",
    "        y += font_size * 3\n",
    "\n",
    "    # Save the image\n",
    "    image.save(output_path)\n",
    "    print(f\"Image saved to {output_path}\")\n",
    "\n",
    "# Read text from file\n",
    "with open(\"C:\\\\Users\\\\MANASI\\\\Desktop\\\\note.txt\", \"r\") as fo:\n",
    "    text = fo.read()\n",
    "\n",
    "# Convert text to handwriting and save as an image\n",
    "font_path = \"C:\\\\Users\\\\MANASI\\\\Desktop\\\\text to handwriting\\\\GreatVibes-Regular.ttf\"\n",
    "text_to_handwriting(text, \"C:\\\\Users\\\\MANASI\\\\Desktop\\\\note.png\", font_path)\n"
   ]
  }
 ],
 "metadata": {
  "kernelspec": {
   "display_name": "base",
   "language": "python",
   "name": "python3"
  },
  "language_info": {
   "codemirror_mode": {
    "name": "ipython",
    "version": 3
   },
   "file_extension": ".py",
   "mimetype": "text/x-python",
   "name": "python",
   "nbconvert_exporter": "python",
   "pygments_lexer": "ipython3",
   "version": "3.11.7"
  }
 },
 "nbformat": 4,
 "nbformat_minor": 2
}
